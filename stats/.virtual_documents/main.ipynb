import polars as pl
import datashader as ds
import datashader.transfer_functions as tf
import matplotlib.pyplot as plt

file = 'english'

# Leggi il file con Polars, specificando il tipo di dati per la colonna
df = pl.read_csv(f'delays_txt/{file}_delays.txt', has_header=False, dtypes={"column_1": pl.Float64})
df = df.rename({'column_1': 'y'})

# Aggiungi la colonna 'x'
df = df.with_columns([
    pl.Series(name='x', values=range(len(df)))
])

# Normalizza i valori della colonna 'y'
y_min = df['y'].min()
y_max = df['y'].max()
df = df.with_columns([
    ((df['y'] - y_min) / (y_max - y_min)).alias('y')
])

# Conversione a DataFrame Pandas per l'uso con Datashader
df_pandas = df.to_pandas()

# Descrizione del DataFrame (opzionale)
print(df_pandas.describe())

canvas = ds.Canvas(plot_width=2000, plot_height=1000)
agg = canvas.line(df_pandas, 'x', 'y', ds.count())

img = tf.shade(agg)
img = tf.set_background(img, "white").to_pil()

plt.figure(figsize=(20, 10))
plt.imshow(img, aspect='auto', extent=(0, len(df_pandas) - 1, 0, 1), origin='upper')
plt.title(f'Normalized Delays for text int.{file}.txt')
plt.ylabel('Normalized Delay')
plt.yticks(fontsize=12)
plt.ylim(0, 1)

plt.savefig(f'delays_png/{file}_delays_normalized.png', bbox_inches='tight', pad_inches=0.1)
plt.show()


import polars as pl
import datashader as ds
import datashader.transfer_functions as tf
import matplotlib.pyplot as plt

file = 'english'

# Leggi il file con Polars, specificando il tipo di dati per la colonna
df = pl.read_csv(f'delays_txt/{file}_delays.txt', has_header=False, dtypes={"column_1": pl.Float64})
df = df.rename({'column_1': 'y'})

# Aggiungi la colonna 'x'
df = df.with_columns([
    pl.Series(name='x', values=range(len(df)))
])

# Normalizza i valori della colonna 'y'
y_min = df['y'].min()
y_max = df['y'].max()
df = df.with_columns([
    ((df['y'] - y_min) / (y_max - y_min)).alias('y')
])

# Conversione a DataFrame Pandas per l'uso con Datashader
df_pandas = df.to_pandas()

# Descrizione del DataFrame (opzionale)
print(df_pandas.describe())

canvas = ds.Canvas(plot_width=2000, plot_height=1000)
agg = canvas.line(df_pandas, 'x', 'y', ds.count())

img = tf.shade(agg)
img = tf.set_background(img, "white").to_pil()

plt.figure(figsize=(20, 5))  # Modificato rapporto altezza/larghezza a 4:1
plt.imshow(img, aspect='auto', extent=(0, len(df_pandas) - 1, 0, 1), origin='upper')
plt.title(f'Normalized Delays for text int.{file}.txt')
plt.ylabel('Normalized Delay')
plt.yticks(fontsize=12)
plt.ylim(0, 1)

plt.savefig(f'delays_png/{file}_delays_normalized.png', bbox_inches='tight', pad_inches=0.1)
plt.show()
